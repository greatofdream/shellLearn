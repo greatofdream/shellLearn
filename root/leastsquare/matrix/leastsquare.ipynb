{
 "cells": [
  {
   "cell_type": "code",
   "execution_count": 1,
   "metadata": {},
   "outputs": [],
   "source": [
    "import numpy as np"
   ]
  },
  {
   "cell_type": "code",
   "execution_count": 2,
   "metadata": {},
   "outputs": [],
   "source": [
    "n=5\n",
    "d=np.array([1500, 1340, 1328, 1172, 800]).reshape((n,1))\n",
    "h=np.array([1000, 828, 800, 600, 300]).reshape((n,1))"
   ]
  },
  {
   "cell_type": "raw",
   "metadata": {},
   "source": [
    "> d= \\alpha h"
   ]
  },
  {
   "cell_type": "code",
   "execution_count": 3,
   "metadata": {},
   "outputs": [],
   "source": [
    "sigma=15**2\n",
    "A=h\n",
    "V=sigma\n",
    "y=d"
   ]
  },
  {
   "cell_type": "code",
   "execution_count": 13,
   "metadata": {},
   "outputs": [
    {
     "data": {
      "text/plain": [
       "array([[12335.92888889]])"
      ]
     },
     "execution_count": 13,
     "metadata": {},
     "output_type": "execute_result"
    }
   ],
   "source": [
    "np.array(np.dot(A.T,(1/V)*A)).reshape(1,1)"
   ]
  },
  {
   "cell_type": "code",
   "execution_count": 16,
   "metadata": {},
   "outputs": [
    {
     "name": "stdout",
     "output_type": "stream",
     "text": [
      "1.6627563784774666\n"
     ]
    }
   ],
   "source": [
    "theta=np.dot(1/(np.dot(A.T,(1/V)*A)),np.dot(A.T,(1/V)*y))\n",
    "print(theta)"
   ]
  },
  {
   "cell_type": "code",
   "execution_count": 18,
   "metadata": {},
   "outputs": [
    {
     "name": "stdout",
     "output_type": "stream",
     "text": [
      "661.9901447158907\n"
     ]
    }
   ],
   "source": [
    "chi=np.dot((y-np.dot(A,theta)).T,(y-np.dot(A,theta)))/V\n",
    "print(chi)"
   ]
  },
  {
   "cell_type": "raw",
   "metadata": {},
   "source": [
    "> d= \\alpha h+ \\beta h^2"
   ]
  },
  {
   "cell_type": "code",
   "execution_count": 20,
   "metadata": {},
   "outputs": [],
   "source": [
    "sigma=15**2\n",
    "A=np.column_stack((h,h**2))\n",
    "V=sigma\n",
    "y=d"
   ]
  },
  {
   "cell_type": "code",
   "execution_count": 21,
   "metadata": {},
   "outputs": [
    {
     "name": "stdout",
     "output_type": "stream",
     "text": [
      "[ 2.79292075e+00 -1.35054694e-03]\n"
     ]
    }
   ],
   "source": [
    "theta=np.dot(np.linalg.inv(np.dot(A.T,(1/V)*A)),np.dot(A.T,(1/V)*y))\n",
    "print(theta)"
   ]
  },
  {
   "cell_type": "code",
   "execution_count": 22,
   "metadata": {},
   "outputs": [
    {
     "name": "stdout",
     "output_type": "stream",
     "text": [
      "64.74181536022722\n"
     ]
    }
   ],
   "source": [
    "chi=np.dot((y-np.dot(A,theta)).T,(y-np.dot(A,theta)))/V\n",
    "print(chi)"
   ]
  },
  {
   "cell_type": "raw",
   "metadata": {},
   "source": [
    "> d= \\alpha sqrt(h)"
   ]
  },
  {
   "cell_type": "code",
   "execution_count": 23,
   "metadata": {},
   "outputs": [],
   "source": [
    "sigma=15**2\n",
    "A=np.sqrt(h)\n",
    "V=sigma\n",
    "y=d"
   ]
  },
  {
   "cell_type": "code",
   "execution_count": 24,
   "metadata": {},
   "outputs": [
    {
     "name": "stdout",
     "output_type": "stream",
     "text": [
      "47.085767804013386\n"
     ]
    }
   ],
   "source": [
    "theta=np.dot(1/(np.dot(A.T,(1/V)*A)),np.dot(A.T,(1/V)*y))\n",
    "print(theta)"
   ]
  },
  {
   "cell_type": "code",
   "execution_count": 25,
   "metadata": {},
   "outputs": [
    {
     "name": "stdout",
     "output_type": "stream",
     "text": [
      "4.207552184269362\n"
     ]
    }
   ],
   "source": [
    "chi=np.dot((y-np.dot(A,theta)).T,(y-np.dot(A,theta)))/V\n",
    "print(chi)"
   ]
  },
  {
   "cell_type": "code",
   "execution_count": null,
   "metadata": {},
   "outputs": [],
   "source": []
  },
  {
   "cell_type": "raw",
   "metadata": {},
   "source": [
    "> theta_r = alpha theta_i"
   ]
  },
  {
   "cell_type": "code",
   "execution_count": 2,
   "metadata": {},
   "outputs": [],
   "source": [
    "import numpy as np\n",
    "n=8\n",
    "tr=np.array([8,15.5,22.5,29,35,40.5,45.5,50]).reshape((n,1))\n",
    "ti=np.array(range(10,90,10)).reshape((n,1))"
   ]
  },
  {
   "cell_type": "code",
   "execution_count": 29,
   "metadata": {},
   "outputs": [],
   "source": [
    "sigma=0.5**2\n",
    "A=ti\n",
    "V=sigma\n",
    "y=tr"
   ]
  },
  {
   "cell_type": "code",
   "execution_count": 30,
   "metadata": {},
   "outputs": [
    {
     "name": "stdout",
     "output_type": "stream",
     "text": [
      "[[0.66617647]]\n"
     ]
    }
   ],
   "source": [
    "theta=np.dot(1/(np.dot(A.T,(1/V)*A)),np.dot(A.T,(1/V)*y))\n",
    "print(theta)"
   ]
  },
  {
   "cell_type": "code",
   "execution_count": 31,
   "metadata": {},
   "outputs": [
    {
     "name": "stdout",
     "output_type": "stream",
     "text": [
      "[[134.64705882]]\n"
     ]
    }
   ],
   "source": [
    "chi=np.dot((y-np.dot(A,theta)).T,(y-np.dot(A,theta)))/V\n",
    "print(chi)"
   ]
  },
  {
   "cell_type": "raw",
   "metadata": {},
   "source": [
    "> theta_r= alpha theta_i -beta theta_i^2"
   ]
  },
  {
   "cell_type": "code",
   "execution_count": 32,
   "metadata": {},
   "outputs": [
    {
     "name": "stdout",
     "output_type": "stream",
     "text": [
      "[[0.825 ]\n",
      " [0.0025]]\n",
      "[[6.7551737e-26]]\n"
     ]
    }
   ],
   "source": [
    "sigma=0.5**2\n",
    "A=np.column_stack((ti,-ti**2))\n",
    "V=sigma\n",
    "y=tr\n",
    "theta=np.dot(np.linalg.inv(np.dot(A.T,(1/V)*A)),np.dot(A.T,(1/V)*y))\n",
    "print(theta)\n",
    "chi=np.dot((y-np.dot(A,theta)).T,(y-np.dot(A,theta)))/V\n",
    "print(chi)"
   ]
  },
  {
   "cell_type": "code",
   "execution_count": 6,
   "metadata": {},
   "outputs": [
    {
     "name": "stdout",
     "output_type": "stream",
     "text": [
      "[[1.2963609]]\n",
      "[[0.0567221]]\n"
     ]
    }
   ],
   "source": [
    "sigma=0.5**2\n",
    "A=1/np.sin(ti*np.pi/180)\n",
    "V1=np.cos(ti*np.pi/180)**2/np.sin(ti*np.pi/180)**4\n",
    "V=np.zeros((8,8))\n",
    "for i in range(8):\n",
    "    V[i,i]=V1[i]*sigma\n",
    "y=1/np.sin(tr*np.pi/180)\n",
    "theta=np.dot(np.linalg.inv(np.dot(A.T,np.dot(np.linalg.inv(V),A))),np.dot(A.T,np.dot(np.linalg.inv(V),y)))\n",
    "print(theta)\n",
    "chi=np.dot((y-np.dot(A,theta)).T,np.dot(np.linalg.inv(V),(y-np.dot(A,theta))))\n",
    "print(chi)"
   ]
  },
  {
   "cell_type": "code",
   "execution_count": 44,
   "metadata": {},
   "outputs": [
    {
     "ename": "TypeError",
     "evalue": "matrixproduct() missing required argument 'b' (pos 2)",
     "output_type": "error",
     "traceback": [
      "\u001b[0;31m--------------------------------------\u001b[0m",
      "\u001b[0;31mTypeError\u001b[0mTraceback (most recent call last)",
      "\u001b[0;32m<ipython-input-44-fb7fde148da5>\u001b[0m in \u001b[0;36m<module>\u001b[0;34m()\u001b[0m\n\u001b[0;32m----> 1\u001b[0;31m \u001b[0mnp\u001b[0m\u001b[0;34m.\u001b[0m\u001b[0mdot\u001b[0m\u001b[0;34m(\u001b[0m\u001b[0mA\u001b[0m\u001b[0;34m.\u001b[0m\u001b[0mT\u001b[0m\u001b[0;34m,\u001b[0m\u001b[0mnp\u001b[0m\u001b[0;34m.\u001b[0m\u001b[0mdot\u001b[0m\u001b[0;34m(\u001b[0m\u001b[0mnp\u001b[0m\u001b[0;34m.\u001b[0m\u001b[0mlinalg\u001b[0m\u001b[0;34m.\u001b[0m\u001b[0minv\u001b[0m\u001b[0;34m(\u001b[0m\u001b[0mV\u001b[0m\u001b[0;34m)\u001b[0m\u001b[0;34m*\u001b[0m\u001b[0my\u001b[0m\u001b[0;34m)\u001b[0m\u001b[0;34m)\u001b[0m\u001b[0;34m\u001b[0m\u001b[0;34m\u001b[0m\u001b[0m\n\u001b[0m",
      "\u001b[0;31mTypeError\u001b[0m: matrixproduct() missing required argument 'b' (pos 2)"
     ]
    }
   ],
   "source": [
    "np.dot(A.T,np.dot(np.linalg.inv(V)*y))"
   ]
  },
  {
   "cell_type": "code",
   "execution_count": null,
   "metadata": {},
   "outputs": [],
   "source": []
  }
 ],
 "metadata": {
  "kernelspec": {
   "display_name": "Python 3",
   "language": "python",
   "name": "python3"
  },
  "language_info": {
   "codemirror_mode": {
    "name": "ipython",
    "version": 3
   },
   "file_extension": ".py",
   "mimetype": "text/x-python",
   "name": "python",
   "nbconvert_exporter": "python",
   "pygments_lexer": "ipython3",
   "version": "3.7.3"
  }
 },
 "nbformat": 4,
 "nbformat_minor": 2
}
