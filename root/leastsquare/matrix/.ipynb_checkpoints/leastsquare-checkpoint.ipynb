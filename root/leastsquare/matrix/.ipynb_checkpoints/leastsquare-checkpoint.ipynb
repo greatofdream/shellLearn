{
 "cells": [
  {
   "cell_type": "code",
   "execution_count": 1,
   "metadata": {},
   "outputs": [],
   "source": [
    "import numpy as np"
   ]
  },
  {
   "cell_type": "code",
   "execution_count": 2,
   "metadata": {},
   "outputs": [],
   "source": [
    "n=5\n",
    "d=np.array([1500, 1340, 1328, 1172, 800]).reshape((n,1))\n",
    "h=np.array([1000, 828, 800, 600, 300]).reshape((n,1))"
   ]
  },
  {
   "cell_type": "raw",
   "metadata": {},
   "source": [
    "> d= \\alpha h"
   ]
  },
  {
   "cell_type": "code",
   "execution_count": 3,
   "metadata": {},
   "outputs": [],
   "source": [
    "sigma=15**2\n",
    "A=h\n",
    "V=sigma\n",
    "y=d"
   ]
  },
  {
   "cell_type": "code",
   "execution_count": 13,
   "metadata": {},
   "outputs": [
    {
     "data": {
      "text/plain": [
       "array([[12335.92888889]])"
      ]
     },
     "execution_count": 13,
     "metadata": {},
     "output_type": "execute_result"
    }
   ],
   "source": [
    "np.array(np.dot(A.T,(1/V)*A)).reshape(1,1)"
   ]
  },
  {
   "cell_type": "code",
   "execution_count": 16,
   "metadata": {},
   "outputs": [
    {
     "name": "stdout",
     "output_type": "stream",
     "text": [
      "1.6627563784774666\n"
     ]
    }
   ],
   "source": [
    "theta=np.dot(1/(np.dot(A.T,(1/V)*A)),np.dot(A.T,(1/V)*y))\n",
    "print(theta)"
   ]
  },
  {
   "cell_type": "code",
   "execution_count": 18,
   "metadata": {},
   "outputs": [
    {
     "name": "stdout",
     "output_type": "stream",
     "text": [
      "661.9901447158907\n"
     ]
    }
   ],
   "source": [
    "chi=np.dot((y-np.dot(A,theta)).T,(y-np.dot(A,theta)))/V\n",
    "print(chi)"
   ]
  },
  {
   "cell_type": "raw",
   "metadata": {},
   "source": [
    "> d= \\alpha h+ \\beta h^2"
   ]
  },
  {
   "cell_type": "code",
   "execution_count": 20,
   "metadata": {},
   "outputs": [],
   "source": [
    "sigma=15**2\n",
    "A=np.column_stack((h,h**2))\n",
    "V=sigma\n",
    "y=d"
   ]
  },
  {
   "cell_type": "code",
   "execution_count": 21,
   "metadata": {},
   "outputs": [
    {
     "name": "stdout",
     "output_type": "stream",
     "text": [
      "[ 2.79292075e+00 -1.35054694e-03]\n"
     ]
    }
   ],
   "source": [
    "theta=np.dot(np.linalg.inv(np.dot(A.T,(1/V)*A)),np.dot(A.T,(1/V)*y))\n",
    "print(theta)"
   ]
  },
  {
   "cell_type": "code",
   "execution_count": 22,
   "metadata": {},
   "outputs": [
    {
     "name": "stdout",
     "output_type": "stream",
     "text": [
      "64.74181536022722\n"
     ]
    }
   ],
   "source": [
    "chi=np.dot((y-np.dot(A,theta)).T,(y-np.dot(A,theta)))/V\n",
    "print(chi)"
   ]
  },
  {
   "cell_type": "raw",
   "metadata": {},
   "source": [
    "> d= \\alpha sqrt(h)"
   ]
  },
  {
   "cell_type": "code",
   "execution_count": 23,
   "metadata": {},
   "outputs": [],
   "source": [
    "sigma=15**2\n",
    "A=np.sqrt(h)\n",
    "V=sigma\n",
    "y=d"
   ]
  },
  {
   "cell_type": "code",
   "execution_count": 24,
   "metadata": {},
   "outputs": [
    {
     "name": "stdout",
     "output_type": "stream",
     "text": [
      "47.085767804013386\n"
     ]
    }
   ],
   "source": [
    "theta=np.dot(1/(np.dot(A.T,(1/V)*A)),np.dot(A.T,(1/V)*y))\n",
    "print(theta)"
   ]
  },
  {
   "cell_type": "code",
   "execution_count": 25,
   "metadata": {},
   "outputs": [
    {
     "name": "stdout",
     "output_type": "stream",
     "text": [
      "4.207552184269362\n"
     ]
    }
   ],
   "source": [
    "chi=np.dot((y-np.dot(A,theta)).T,(y-np.dot(A,theta)))/V\n",
    "print(chi)"
   ]
  },
  {
   "cell_type": "code",
   "execution_count": null,
   "metadata": {},
   "outputs": [],
   "source": []
  }
 ],
 "metadata": {
  "kernelspec": {
   "display_name": "Python 3",
   "language": "python",
   "name": "python3"
  },
  "language_info": {
   "codemirror_mode": {
    "name": "ipython",
    "version": 3
   },
   "file_extension": ".py",
   "mimetype": "text/x-python",
   "name": "python",
   "nbconvert_exporter": "python",
   "pygments_lexer": "ipython3",
   "version": "3.7.3"
  }
 },
 "nbformat": 4,
 "nbformat_minor": 2
}
